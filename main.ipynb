{
 "cells": [
  {
   "metadata": {
    "jupyter": {
     "is_executing": true
    }
   },
   "cell_type": "code",
   "source": [
    "# This is a sample Python script.\n",
    "\n",
    "# Press ⌃R to execute it or replace it with your code.\n",
    "# Press Double ⇧ to search everywhere for classes, files, tool windows, actions, and settings.\n",
    "\n",
    "\n",
    "def print_hi(name):\n",
    "    # Use a breakpoint in the code line below to debug your script.\n",
    "    print(f'Hi, {name}')  # Press ⌘F8 to toggle the breakpoint.\n",
    "\n",
    "\n",
    "# Press the green button in the gutter to run the script.\n",
    "if __name__ == '__main__':\n",
    "    print_hi('PyCharm')\n",
    "\n",
    "# See PyCharm help at https://www.jetbrains.com/help/pycharm/\n"
   ],
   "id": "a36fe837a5ee9e00",
   "outputs": [],
   "execution_count": null
  }
 ],
 "metadata": {},
 "nbformat": 5,
 "nbformat_minor": 9
}
